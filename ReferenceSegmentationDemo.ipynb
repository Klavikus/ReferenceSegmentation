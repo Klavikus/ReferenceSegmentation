{
 "cells": [
  {
   "metadata": {
    "ExecuteTime": {
     "end_time": "2024-10-02T12:30:30.135901Z",
     "start_time": "2024-10-02T12:30:27.245914Z"
    }
   },
   "cell_type": "code",
   "source": [
    "#@markdown #**Установка требуемых пакетов** 🏗️\n",
    "#@markdown Необходимо выполнить только один раз за сессию!\n",
    "\n",
    "#@markdown ---\n",
    "\n",
    "!git clone https://github.com/Klavikus/ReferenceSegmentation.git\n",
    "!mv ReferenceSegmentation/* ./\n",
    "!mv ReferenceSegmentation/.* ./ 2>/dev/null\n",
    "!rm -rf ReferenceSegmentation\n",
    "!pip install -r requirements.txt"
   ],
   "id": "56f913ec042d4ad2",
   "outputs": [],
   "execution_count": 1
  },
  {
   "metadata": {
    "ExecuteTime": {
     "end_time": "2024-10-02T12:30:30.917666Z",
     "start_time": "2024-10-02T12:30:30.140914Z"
    }
   },
   "cell_type": "code",
   "source": [
    "#@markdown #**Запуск GUI**\n",
    "#@markdown ---\n",
    "\n",
    "from gradio_gui import GradioGui\n",
    "from segmentation_processor import WatershedProcessor\n",
    "\n",
    "STANDARD_WIDTH = 512\n",
    "STANDARD_HEIGHT = 512\n",
    "\n",
    "processor = WatershedProcessor(STANDARD_WIDTH, STANDARD_HEIGHT)\n",
    "gui = GradioGui(STANDARD_WIDTH, STANDARD_HEIGHT)\n",
    "gui.run(processor, share=True)"
   ],
   "id": "18c0108783799d82",
   "outputs": [
    {
     "name": "stdout",
     "output_type": "stream",
     "text": [
      "Running on local URL:  http://127.0.0.1:7860\n",
      "\n",
      "To create a public link, set `share=True` in `launch()`.\n"
     ]
    },
    {
     "data": {
      "text/plain": [
       "<IPython.core.display.HTML object>"
      ],
      "text/html": [
       "<div><iframe src=\"http://127.0.0.1:7860/\" width=\"100%\" height=\"500\" allow=\"autoplay; camera; microphone; clipboard-read; clipboard-write;\" frameborder=\"0\" allowfullscreen></iframe></div>"
      ]
     },
     "metadata": {},
     "output_type": "display_data"
    }
   ],
   "execution_count": 2
  }
 ],
 "metadata": {
  "kernelspec": {
   "display_name": "Python 3 (ipykernel)",
   "language": "python",
   "name": "python3"
  },
  "language_info": {
   "codemirror_mode": {
    "name": "ipython",
    "version": 3
   },
   "file_extension": ".py",
   "mimetype": "text/x-python",
   "name": "python",
   "nbconvert_exporter": "python",
   "pygments_lexer": "ipython3",
   "version": "3.12.2"
  }
 },
 "nbformat": 4,
 "nbformat_minor": 5
}
